{
 "cells": [
  {
   "cell_type": "markdown",
   "metadata": {},
   "source": [
    "## Objective:<br>\n",
    "The analysis target to use text to predict the comment in reddit to be removed or not <br>\n",
    " \n",
    "#### Part 1. Draw a baseline for simple regression classifier   <br>\n",
    "    - the data showing imbalance sample issue -- fix by downsampling\n",
    "    - the outcome showing overfitting with high accuracy(80%) for train and (69%) for test<br>\n",
    "#### Part 2. Model building and tuning <br>\n",
    "Methods with simple normalization <br>\n",
    "    - Tf-idf, \n",
    "    - n-gram\n",
    "    - characters/words as unit token\n",
    "    - change the threshold : min_df, max_feature, stop_words, and scaling  \n",
    "    - Using different encodding to deal with foreigh words/characters\n",
    "Latent semantic analysis with dimention reduction techniques:  <br>\n",
    "    - SVD \n",
    "    - LDA  \n",
    "Refining the model by adding derived features <br>\n",
    "    - Length of the comment\n",
    "    - Whether it include a website, what website is included\n",
    "    - whether include number\n",
    "    - Number of non-english words, etc.\n",
    "#### Part 3. <br>\n",
    "Using existing word dictionary to distill the corpus <br>\n",
    "    - Gensim corpora output is tuple and can not be applied to TF-IDF vectorizer\n",
    "    - Build a customized tokenizer, leave only words after lematization that is in the corpora word dictionary\n",
    "    - Use trained Word2Vec directly, the model could be another baseline model\n",
    "\n",
    "### Conclusion:<br>\n",
    "The analysis focused on modeling text and predicting the item got removed from the stream or not \n",
    "Words/Features closely associated with the result \n",
    "  - comments with 'Upvote', 'Feminist' (discriminated word), words that is not polite are highly associated with deleting\n",
    "  - comments with 'Edit', 'Recommends', and words related to research terminology are associated to not deleting\n",
    "\n",
    "To yeild better predictive power\n",
    "  - More cleaning, derive new features on the text, fine tuning on model help providing better insights of what the characteristics of the comments that got removed.  \n",
    "  - However, not necessary to yield better result. \n",
    "  - Dimension reduction (SVD) will also provide a good result given the less space and computing power it take \n",
    "  - Leveraging existing trained model Word2Vec could also serve as a baseline"
   ]
  },
  {
   "cell_type": "markdown",
   "metadata": {},
   "source": [
    "### Part 1. Understand data, and build baseline model"
   ]
  },
  {
   "cell_type": "code",
   "execution_count": null,
   "metadata": {},
   "outputs": [],
   "source": [
    "# data manipulation\n",
    "import re\n",
    "\n",
    "import numpy as np\n",
    "import pandas as pd\n",
    "from scipy import sparse\n",
    "# plot\n",
    "from matplotlib import pyplot as plt\n",
    "\n",
    "# %% pre processing, text feature extraction\n",
    "\n",
    "from imblearn.under_sampling import RandomUnderSampler\n",
    "from imblearn.over_sampling import RandomOverSampler\n",
    "from sklearn.feature_extraction.text import CountVectorizer\n",
    "from sklearn.feature_extraction.text import TfidfVectorizer,TfidfTransformer\n",
    "\n",
    "# pipeline\n",
    "from sklearn.pipeline import Pipeline\n",
    "\n",
    "# model evaluation\n",
    "from sklearn.metrics import classification_report\n",
    "# %%modeling and model selection\n",
    "from sklearn.linear_model import LogisticRegression\n",
    "from sklearn.model_selection import train_test_split, GridSearchCV"
   ]
  },
  {
   "cell_type": "code",
   "execution_count": 1,
   "metadata": {},
   "outputs": [
    {
     "data": {
      "text/plain": [
       "(167529, 8)"
      ]
     },
     "execution_count": 1,
     "metadata": {},
     "output_type": "execute_result"
    }
   ],
   "source": [
    "#%%\n",
    "data_train=pd.read_csv(\"reddit_200k_train.csv\",encoding='iso-8859-1')\n",
    "data_train.shape"
   ]
  },
  {
   "cell_type": "code",
   "execution_count": 2,
   "metadata": {},
   "outputs": [
    {
     "data": {
      "text/plain": [
       "False    102791\n",
       "True      64738\n",
       "Name: REMOVED, dtype: int64"
      ]
     },
     "execution_count": 2,
     "metadata": {},
     "output_type": "execute_result"
    }
   ],
   "source": [
    "data=data_train[['body','REMOVED']]\n",
    "data['REMOVED'].value_counts()"
   ]
  },
  {
   "cell_type": "code",
   "execution_count": 3,
   "metadata": {},
   "outputs": [],
   "source": [
    "# Deal with Imbalanced sample issue by downsampling\n",
    "rus = RandomUnderSampler(replacement=False)\n",
    "train_X_subsample, train_y_subsample = rus.fit_sample(\n",
    "    data_train[['body']], data[['REMOVED']])"
   ]
  },
  {
   "cell_type": "code",
   "execution_count": 4,
   "metadata": {},
   "outputs": [
    {
     "data": {
      "text/plain": [
       "True     64738\n",
       "False    64738\n",
       "dtype: int64"
      ]
     },
     "execution_count": 4,
     "metadata": {},
     "output_type": "execute_result"
    }
   ],
   "source": [
    "pd.Series(train_y_subsample.ravel()).value_counts()"
   ]
  },
  {
   "cell_type": "code",
   "execution_count": 68,
   "metadata": {},
   "outputs": [
    {
     "data": {
      "text/plain": [
       "CountVectorizer(analyzer='word', binary=False, decode_error='strict',\n",
       "                dtype=<class 'numpy.int64'>, encoding='utf-8', input='content',\n",
       "                lowercase=True, max_df=1.0, max_features=None, min_df=1,\n",
       "                ngram_range=(1, 1), preprocessor=None, stop_words=None,\n",
       "                strip_accents=None, token_pattern='(?u)\\\\b\\\\w\\\\w+\\\\b',\n",
       "                tokenizer=None, vocabulary=None)"
      ]
     },
     "execution_count": 68,
     "metadata": {},
     "output_type": "execute_result"
    }
   ],
   "source": [
    "vect=CountVectorizer()\n",
    "vect.fit(train_X_subsample.ravel())"
   ]
  },
  {
   "cell_type": "code",
   "execution_count": 28,
   "metadata": {},
   "outputs": [
    {
     "name": "stdout",
     "output_type": "stream",
     "text": [
      "total number of tokens 93505\n",
      "initial raw vector shape is (129476, 93505)\n"
     ]
    },
    {
     "name": "stderr",
     "output_type": "stream",
     "text": [
      "C:\\Users\\Yilun\\Anaconda3\\lib\\site-packages\\sklearn\\linear_model\\logistic.py:432: FutureWarning: Default solver will be changed to 'lbfgs' in 0.22. Specify a solver to silence this warning.\n",
      "  FutureWarning)\n",
      "C:\\Users\\Yilun\\Anaconda3\\lib\\site-packages\\sklearn\\utils\\validation.py:724: DataConversionWarning: A column-vector y was passed when a 1d array was expected. Please change the shape of y to (n_samples, ), for example using ravel().\n",
      "  y = column_or_1d(y, warn=True)\n",
      "C:\\Users\\Yilun\\Anaconda3\\lib\\site-packages\\sklearn\\svm\\base.py:929: ConvergenceWarning: Liblinear failed to converge, increase the number of iterations.\n",
      "  \"the number of iterations.\", ConvergenceWarning)\n"
     ]
    },
    {
     "name": "stdout",
     "output_type": "stream",
     "text": [
      "              precision    recall  f1-score   support\n",
      "\n",
      "       False       0.85      0.73      0.79     48507\n",
      "        True       0.76      0.87      0.82     48600\n",
      "\n",
      "    accuracy                           0.80     97107\n",
      "   macro avg       0.81      0.80      0.80     97107\n",
      "weighted avg       0.81      0.80      0.80     97107\n",
      "\n",
      "              precision    recall  f1-score   support\n",
      "\n",
      "       False       0.72      0.61      0.66     16231\n",
      "        True       0.66      0.76      0.71     16138\n",
      "\n",
      "    accuracy                           0.69     32369\n",
      "   macro avg       0.69      0.69      0.69     32369\n",
      "weighted avg       0.69      0.69      0.69     32369\n",
      "\n"
     ]
    }
   ],
   "source": [
    "#%% use n-gram\n",
    " \n",
    "vect=CountVectorizer()\n",
    "vect.fit(train_X_subsample.ravel())\n",
    "#print(vect.get_feature_names()[::2000])\n",
    "print('total number of tokens {}'.format(len(vect.get_feature_names())))\n",
    "#total number of tokens 39786\n",
    "#%% need to transform prior to the regression\n",
    "vect_trans=vect.transform(train_X_subsample.ravel())\n",
    "print('initial raw vector shape is {}'.format(vect_trans.shape))\n",
    "#%%\n",
    "\n",
    "X_train,X_test,y_train,y_test=train_test_split(vect_trans,train_y_subsample)\n",
    "#%% A basic model for this\n",
    "\n",
    " \n",
    "lr_base=LogisticRegression().fit(X_train,y_train)\n",
    "print(classification_report(y_train,lr_base.predict(X_train)))\n",
    "print(classification_report(y_test,lr_base.predict(X_test)))"
   ]
  },
  {
   "cell_type": "markdown",
   "metadata": {},
   "source": [
    "The base model is a good example of over fitting, this issue might be solved by regularization <br>\n",
    "For more accurate result, building pipline for the following analysis <br>"
   ]
  },
  {
   "cell_type": "markdown",
   "metadata": {},
   "source": [
    "### Part 2. Scale by Tfidf\n",
    "-  using n-gram\n",
    "-  adding restriction of apprearing in 10+ documents in the corpus\n",
    "-  use pipeline to normalize training and testing separately to avoid data leakage"
   ]
  },
  {
   "cell_type": "code",
   "execution_count": 70,
   "metadata": {},
   "outputs": [],
   "source": [
    "vect = CountVectorizer(stop_words='english',token_pattern=r'\\b[^\\d\\W]+\\b', min_df=10).fit(train_X_subsample.ravel())\n",
    "\n",
    "X_CV = vect.fit_transform(train_X_subsample.ravel())\n",
    "\n",
    "X_train,X_test,y_train,y_test=train_test_split(X_CV,train_y_subsample)\n",
    "\n",
    "lr_base2 = LogisticRegression().fit(X_train,y_train)"
   ]
  },
  {
   "cell_type": "code",
   "execution_count": 72,
   "metadata": {},
   "outputs": [
    {
     "name": "stdout",
     "output_type": "stream",
     "text": [
      "              precision    recall  f1-score   support\n",
      "\n",
      "       False       0.81      0.68      0.74     48348\n",
      "        True       0.73      0.84      0.78     48759\n",
      "\n",
      "    accuracy                           0.76     97107\n",
      "   macro avg       0.77      0.76      0.76     97107\n",
      "weighted avg       0.77      0.76      0.76     97107\n",
      "\n",
      "              precision    recall  f1-score   support\n",
      "\n",
      "       False       0.72      0.59      0.65     16390\n",
      "        True       0.65      0.77      0.70     15979\n",
      "\n",
      "    accuracy                           0.68     32369\n",
      "   macro avg       0.68      0.68      0.68     32369\n",
      "weighted avg       0.69      0.68      0.68     32369\n",
      "\n"
     ]
    }
   ],
   "source": [
    "print(classification_report(y_train,lr_base2.predict(X_train)))\n",
    "print(classification_report(y_test,lr_base2.predict(X_test)))"
   ]
  },
  {
   "cell_type": "code",
   "execution_count": 55,
   "metadata": {},
   "outputs": [
    {
     "name": "stdout",
     "output_type": "stream",
     "text": [
      "              precision    recall  f1-score   support\n",
      "\n",
      "       False       0.76      0.66      0.71     48348\n",
      "        True       0.70      0.80      0.75     48759\n",
      "\n",
      "    accuracy                           0.73     97107\n",
      "   macro avg       0.73      0.73      0.73     97107\n",
      "weighted avg       0.73      0.73      0.73     97107\n",
      "\n",
      "              precision    recall  f1-score   support\n",
      "\n",
      "       False       0.73      0.62      0.67     16390\n",
      "        True       0.66      0.77      0.71     15979\n",
      "\n",
      "    accuracy                           0.69     32369\n",
      "   macro avg       0.70      0.69      0.69     32369\n",
      "weighted avg       0.70      0.69      0.69     32369\n",
      "\n"
     ]
    }
   ],
   "source": [
    "lr_base_tfidf = Pipeline([\n",
    "    (\"tfidf\",TfidfTransformer()),\n",
    "    (\"lr\", LogisticRegression(penalty='l1'))])\n",
    "lr_base_tfidf.fit(X_train,y_train)\n",
    "print(classification_report(y_train,lr_base_tfidf.predict(X_train)))\n",
    "print(classification_report(y_test,lr_base_tfidf.predict(X_test)))"
   ]
  },
  {
   "cell_type": "markdown",
   "metadata": {},
   "source": [
    "the result is slightly better after normalization and regularization"
   ]
  },
  {
   "cell_type": "markdown",
   "metadata": {},
   "source": [
    "- check important word to determine the model"
   ]
  },
  {
   "cell_type": "code",
   "execution_count": 54,
   "metadata": {},
   "outputs": [
    {
     "data": {
      "text/plain": [
       "Pipeline(memory=None,\n",
       "         steps=[('tfidf',\n",
       "                 TfidfTransformer(norm='l2', smooth_idf=True,\n",
       "                                  sublinear_tf=False, use_idf=True)),\n",
       "                ('lr',\n",
       "                 LogisticRegression(C=1.0, class_weight=None, dual=False,\n",
       "                                    fit_intercept=True, intercept_scaling=1,\n",
       "                                    l1_ratio=None, max_iter=100,\n",
       "                                    multi_class='warn', n_jobs=None,\n",
       "                                    penalty='l2', random_state=None,\n",
       "                                    solver='warn', tol=0.0001, verbose=0,\n",
       "                                    warm_start=False))],\n",
       "         verbose=False)"
      ]
     },
     "execution_count": 54,
     "metadata": {},
     "output_type": "execute_result"
    }
   ],
   "source": [
    "lr_base_tfidf"
   ]
  },
  {
   "cell_type": "code",
   "execution_count": 52,
   "metadata": {},
   "outputs": [],
   "source": [
    "#%% define the function to show the important word\n",
    "from nlp_plotting import plot_important_features\n",
    "\"\"\"\n",
    "def plot_important_features(coef, feature_names, top_n=20, ax=None):\n",
    "    if ax is None:\n",
    "        ax = plt.gca()\n",
    "    inds = np.argsort(np.abs(coef))[-top_n:]\n",
    "    important_coefs = coef[inds]\n",
    "    sort_sign = np.argsort(important_coefs)\n",
    "    myrange = range(len(inds))\n",
    "    combined_inds = inds[sort_sign]\n",
    "    \n",
    "    ax.bar(myrange, coef[combined_inds])\n",
    "    ax.set_xticks(myrange)\n",
    "    ax.set_xticklabels(feature_names[combined_inds], rotation=60, ha=\"right\")\n",
    "\"\"\""
   ]
  },
  {
   "cell_type": "code",
   "execution_count": 67,
   "metadata": {},
   "outputs": [
    {
     "data": {
      "text/plain": [
       "(15167,)"
      ]
     },
     "execution_count": 67,
     "metadata": {},
     "output_type": "execute_result"
    }
   ],
   "source": [
    "feature_names.shape#= np.array(vect.get_feature_names())"
   ]
  },
  {
   "cell_type": "code",
   "execution_count": 73,
   "metadata": {},
   "outputs": [
    {
     "data": {
      "image/png": "[encoded data removed]",
      "text/plain": [
       "<Figure size 432x288 with 1 Axes>"
      ]
     },
     "metadata": {
      "needs_background": "light"
     },
     "output_type": "display_data"
    }
   ],
   "source": [
    "#%% plot the top feature in the classifier\n",
    "feature_names = np.array(vect.get_feature_names())\n",
    "n_components = 10\n",
    "#fig, axes = plt.subplots(n_components // 3 + 1, 3, figsize=(10, 10))\n",
    "coef=lr_base2.coef_.ravel()\n",
    "plot_important_features(coef, feature_names, top_n=20, ax=None)\n",
    "# we can see that there are a lot of non-english letter words that doniment the negative top identifier\n",
    "# this might be the issue that the negative recall rate is so low\n",
    "# should fix this "
   ]
  },
  {
   "cell_type": "code",
   "execution_count": 74,
   "metadata": {},
   "outputs": [
    {
     "name": "stdout",
     "output_type": "stream",
     "text": [
      "['_', 'article science', 'bros', 'combined', 'decide s', 'downhill', 'factor analysis', 'godsend', 'hills', 'interpretations', 'left', 'm sure s', 'multicellular', 'overall results', 'pmc articles', 'randomized controlled', 'routinely', 'self identified', 'stephanie', 't taste', 'transcranial magnetic', 'wasn t big']\n",
      "total number of tokens 43780\n",
      "(167529, 43780)\n"
     ]
    },
    {
     "name": "stderr",
     "output_type": "stream",
     "text": [
      "C:\\Users\\Yilun\\Anaconda3\\lib\\site-packages\\sklearn\\linear_model\\logistic.py:432: FutureWarning: Default solver will be changed to 'lbfgs' in 0.22. Specify a solver to silence this warning.\n",
      "  FutureWarning)\n",
      "C:\\Users\\Yilun\\Anaconda3\\lib\\site-packages\\sklearn\\svm\\base.py:929: ConvergenceWarning: Liblinear failed to converge, increase the number of iterations.\n",
      "  \"the number of iterations.\", ConvergenceWarning)\n"
     ]
    }
   ],
   "source": [
    "# by first encode and then decode, remove all non-english characteristics and make the result more interpretable and meaningful\n",
    "\n",
    "body_clean=pd.DataFrame(train_X_subsample.ravel())[0].apply(lambda x:x.lower().encode(\"ascii\", errors=\"ignore\").decode())\n",
    " \n",
    "\n",
    "vect=CountVectorizer(stop_words='english',token_pattern=r'\\b[^\\d\\W]+\\b',\n",
    "                     ngram_range=(1, 4), analyzer='word',  min_df=10)\n",
    "vect.fit(body_clean)\n",
    "print(vect.get_feature_names()[::2000])\n",
    "print('total number of tokens {}'.format(len(vect.get_feature_names())))\n",
    "#total number of tokens 39786\n",
    "#%% need to transform prior to the regression\n",
    "vect_trans=vect.transform(body_clean)\n",
    "print(vect_trans.shape)\n",
    "#%%\n",
    "\n",
    "X_train,X_test,y_train,y_test=train_test_split(vect_trans,data['REMOVED'])\n",
    "#%% A basic model for this \n",
    "lr_3_englishletteronly=LogisticRegression().fit(X_train,y_train)"
   ]
  },
  {
   "cell_type": "code",
   "execution_count": 114,
   "metadata": {},
   "outputs": [],
   "source": [
    "l=[len(x.split(' ')) for x in vect.get_feature_names()]"
   ]
  },
  {
   "cell_type": "code",
   "execution_count": 115,
   "metadata": {},
   "outputs": [
    {
     "data": {
      "text/plain": [
       "2    21465\n",
       "1    17949\n",
       "3     3169\n",
       "4     1197\n",
       "dtype: int64"
      ]
     },
     "execution_count": 115,
     "metadata": {},
     "output_type": "execute_result"
    }
   ],
   "source": [
    "pd.Series(l).value_counts()"
   ]
  },
  {
   "cell_type": "markdown",
   "metadata": {},
   "source": [
    "- with mind_df restriction, the length of the feature could not be longer than 4 in this case"
   ]
  },
  {
   "cell_type": "code",
   "execution_count": 75,
   "metadata": {},
   "outputs": [
    {
     "name": "stdout",
     "output_type": "stream",
     "text": [
      "              precision    recall  f1-score   support\n",
      "\n",
      "       False       0.78      0.85      0.81     77145\n",
      "        True       0.72      0.62      0.67     48501\n",
      "\n",
      "    accuracy                           0.76    125646\n",
      "   macro avg       0.75      0.74      0.74    125646\n",
      "weighted avg       0.76      0.76      0.76    125646\n",
      "\n",
      "              precision    recall  f1-score   support\n",
      "\n",
      "       False       0.71      0.78      0.74     25646\n",
      "        True       0.59      0.50      0.54     16237\n",
      "\n",
      "    accuracy                           0.67     41883\n",
      "   macro avg       0.65      0.64      0.64     41883\n",
      "weighted avg       0.66      0.67      0.67     41883\n",
      "\n"
     ]
    }
   ],
   "source": [
    "print(classification_report(y_train,lr_3_englishletteronly.predict(X_train)))\n",
    "print(classification_report(y_test,lr_3_englishletteronly.predict(X_test)))"
   ]
  },
  {
   "cell_type": "markdown",
   "metadata": {},
   "source": [
    " - clean up the words does not improve the accuracy but do improve the interpretability of the model:"
   ]
  },
  {
   "cell_type": "code",
   "execution_count": 76,
   "metadata": {},
   "outputs": [
    {
     "data": {
      "image/png": "[encoded data removed]",
      "text/plain": [
       "<Figure size 432x288 with 1 Axes>"
      ]
     },
     "metadata": {
      "needs_background": "light"
     },
     "output_type": "display_data"
    }
   ],
   "source": [
    "\n",
    "feature_names = np.array(vect.get_feature_names())\n",
    "n_components = 10\n",
    "#fig, axes = plt.subplots(n_components // 3 + 1, 3, figsize=(10, 10))\n",
    "coef=lr_3_englishletteronly.coef_.ravel()\n",
    "plot_important_features(coef, feature_names, top_n=20, ax=None)\n",
    "# the result makes more sense \n",
    "# i.e. \"upvote\" might not have any meaningful contribution thus got deleted\n",
    "# should think of remain the original data or clean in some other way"
   ]
  },
  {
   "cell_type": "code",
   "execution_count": 95,
   "metadata": {},
   "outputs": [],
   "source": [
    "X_train,X_test,y_train,y_test=train_test_split(train_X_subsample.ravel(),train_y_subsample)"
   ]
  },
  {
   "cell_type": "code",
   "execution_count": 96,
   "metadata": {},
   "outputs": [
    {
     "name": "stdout",
     "output_type": "stream",
     "text": [
      "Fitting 5 folds for each of 16 candidates, totalling 80 fits\n"
     ]
    },
    {
     "name": "stderr",
     "output_type": "stream",
     "text": [
      "[Parallel(n_jobs=-1)]: Using backend LokyBackend with 4 concurrent workers.\n",
      "[Parallel(n_jobs=-1)]: Done  42 tasks      | elapsed:  2.1min\n",
      "[Parallel(n_jobs=-1)]: Done  80 out of  80 | elapsed:  3.7min finished\n",
      "C:\\Users\\Yilun\\Anaconda3\\lib\\site-packages\\sklearn\\linear_model\\logistic.py:432: FutureWarning: Default solver will be changed to 'lbfgs' in 0.22. Specify a solver to silence this warning.\n",
      "  FutureWarning)\n",
      "C:\\Users\\Yilun\\Anaconda3\\lib\\site-packages\\sklearn\\utils\\validation.py:724: DataConversionWarning: A column-vector y was passed when a 1d array was expected. Please change the shape of y to (n_samples, ), for example using ravel().\n",
      "  y = column_or_1d(y, warn=True)\n"
     ]
    },
    {
     "name": "stdout",
     "output_type": "stream",
     "text": [
      "              precision    recall  f1-score   support\n",
      "\n",
      "       False       0.78      0.71      0.74     48610\n",
      "        True       0.73      0.79      0.76     48497\n",
      "\n",
      "    accuracy                           0.75     97107\n",
      "   macro avg       0.75      0.75      0.75     97107\n",
      "weighted avg       0.75      0.75      0.75     97107\n",
      "\n",
      "              precision    recall  f1-score   support\n",
      "\n",
      "       False       0.71      0.65      0.68     16128\n",
      "        True       0.68      0.74      0.71     16241\n",
      "\n",
      "    accuracy                           0.70     32369\n",
      "   macro avg       0.70      0.70      0.70     32369\n",
      "weighted avg       0.70      0.70      0.70     32369\n",
      "\n"
     ]
    }
   ],
   "source": [
    "lr_grid = Pipeline([\n",
    "    (\"tfidf\",TfidfVectorizer()),\n",
    "    (\"lr\", LogisticRegression())])\n",
    "\n",
    "# run grid search for parameter tuning\n",
    " \n",
    "parameters = {\n",
    "    'lr__C':(1,0.1,0.04,0.07),\n",
    "    'lr__penalty':('l2','l1'),\n",
    "    'tfidf__min_df':(10,5)\n",
    "    \n",
    "}\n",
    " \n",
    "grid_search = GridSearchCV(lr_grid, parameters, cv=5,\n",
    "                               n_jobs=-1, verbose=1 ,refit='f1')\n",
    "grid_search.fit(X_train,y_train)\n",
    "print(classification_report(y_train,grid_search.predict(X_train)))\n",
    "print(classification_report(y_test,grid_search.predict(X_test)))"
   ]
  },
  {
   "cell_type": "code",
   "execution_count": 97,
   "metadata": {},
   "outputs": [
    {
     "data": {
      "text/plain": [
       "{'lr__C': 1, 'lr__penalty': 'l2', 'tfidf__min_df': 5}"
      ]
     },
     "execution_count": 97,
     "metadata": {},
     "output_type": "execute_result"
    }
   ],
   "source": [
    "grid_search.best_params_"
   ]
  },
  {
   "cell_type": "markdown",
   "metadata": {},
   "source": [
    "- use the above for the following analysis"
   ]
  },
  {
   "cell_type": "markdown",
   "metadata": {},
   "source": [
    "### Part 3. Adding more feature to the model"
   ]
  },
  {
   "cell_type": "code",
   "execution_count": 5,
   "metadata": {},
   "outputs": [
    {
     "name": "stdout",
     "output_type": "stream",
     "text": [
      "So when we can remember a history where he shared a [certain dinner](http://www.huffingtonpost.co.uk/2012/07/02/stephen-hawking-time-travel_n_1643488.html) with Stephen Hawking we'll know it worked.\n",
      "[\"www.huffingtonpost.co.uk/2012/07/02/stephen-hawking-time-travel_n_1643488.html) with Stephen Hawking we'll know it\"]\n",
      "Hi BocceBaller42, your post has been removed for the following reason(s)\r\n",
      "\r\n",
      "It has a sensationalized, editorialized, or biased headline. \r\n",
      " \r\n",
      "*If you feel this was done in error, or would like further clarification, please don't hesitate to [message the mods](http://www.reddit.com/message/compose?to=%2Fr%2FScience&amp;message=My%20Post:%20https://www.reddit.com/r/science/comments/5r1nu1/study_finds_evidence_that_the_universe_is_a/).*\n",
      "['www.reddit.com/message/compose?to=%2Fr%2FScience&amp;message=My%20Post:%20https://www.reddit.com/r/science/comments/5r1nu1/study_finds_evidence_that_the_universe_is_a/']\n"
     ]
    }
   ],
   "source": [
    "# testing the url function\n",
    "def find_url_test(t):\n",
    "    url=re.findall('http[s]?://(.+)[\\'\\(\\)\\s,]+',t)\n",
    "    return url\n",
    "l=[]\n",
    "for i in data['body'][:10]:\n",
    "    s=find_url_test(i)\n",
    "    if s:\n",
    "        print(i)\n",
    "        print(s)\n",
    "        l.extend(s)\n",
    "# the logic could gather "
   ]
  },
  {
   "cell_type": "code",
   "execution_count": 6,
   "metadata": {},
   "outputs": [],
   "source": [
    "\n",
    "def find_nonEng(t):\n",
    "    num=re.findall('[^\\x00-\\x7F]+',t)\n",
    "    return len(num)\n",
    "\n",
    "len_noneng=pd.DataFrame(train_X_subsample.ravel())[0].apply(lambda x:find_nonEng(x)) \n"
   ]
  },
  {
   "cell_type": "code",
   "execution_count": 7,
   "metadata": {},
   "outputs": [],
   "source": [
    "def find_url(t):\n",
    "    url=re.findall('http[s]?://(.+)[\\'\\(\\)\\s,]+',t)\n",
    "    return len(url)\n",
    "\n",
    "url_feature=pd.DataFrame(train_X_subsample.ravel())[0].apply(lambda x:find_url(x)) \n",
    "\n",
    "def find_num(t):\n",
    "    num=re.findall('[a-z]*[0-9]+',t)\n",
    "    return len(num)\n",
    " \n",
    "num_feature=pd.DataFrame(train_X_subsample.ravel())[0].apply(lambda x: find_num(x))  \n",
    "\n",
    "def find_nonEng(t):\n",
    "    num=re.findall('[^\\x00-\\x7F]+',t)\n",
    "    return len(num)\n",
    "\n",
    "len_noneng=pd.DataFrame(train_X_subsample.ravel())[0].apply(lambda x:find_nonEng(x)) \n",
    "\n",
    "#%% add feature as the length of the string\n",
    "len_string=pd.DataFrame(train_X_subsample.ravel())[0].apply(lambda x:len(x.strip().split(\" \")))\n",
    "\n"
   ]
  },
  {
   "cell_type": "code",
   "execution_count": 12,
   "metadata": {},
   "outputs": [],
   "source": [
    "add_feature=pd.concat( [url_feature,num_feature,len_noneng,len_string],axis=1)\n",
    "add_feature.columns=[ 'url_feature','num_feature','len_noneng','len_string']"
   ]
  },
  {
   "cell_type": "code",
   "execution_count": 13,
   "metadata": {},
   "outputs": [
    {
     "data": {
      "text/html": [
       "<div>\n",
       "<style scoped>\n",
       "    .dataframe tbody tr th:only-of-type {\n",
       "        vertical-align: middle;\n",
       "    }\n",
       "\n",
       "    .dataframe tbody tr th {\n",
       "        vertical-align: top;\n",
       "    }\n",
       "\n",
       "    .dataframe thead th {\n",
       "        text-align: right;\n",
       "    }\n",
       "</style>\n",
       "<table border=\"1\" class=\"dataframe\">\n",
       "  <thead>\n",
       "    <tr style=\"text-align: right;\">\n",
       "      <th></th>\n",
       "      <th>url_feature</th>\n",
       "      <th>num_feature</th>\n",
       "      <th>len_noneng</th>\n",
       "      <th>len_string</th>\n",
       "    </tr>\n",
       "  </thead>\n",
       "  <tbody>\n",
       "    <tr>\n",
       "      <th>0</th>\n",
       "      <td>0</td>\n",
       "      <td>0</td>\n",
       "      <td>0</td>\n",
       "      <td>17</td>\n",
       "    </tr>\n",
       "    <tr>\n",
       "      <th>1</th>\n",
       "      <td>0</td>\n",
       "      <td>0</td>\n",
       "      <td>0</td>\n",
       "      <td>54</td>\n",
       "    </tr>\n",
       "    <tr>\n",
       "      <th>2</th>\n",
       "      <td>1</td>\n",
       "      <td>8</td>\n",
       "      <td>0</td>\n",
       "      <td>59</td>\n",
       "    </tr>\n",
       "    <tr>\n",
       "      <th>3</th>\n",
       "      <td>0</td>\n",
       "      <td>0</td>\n",
       "      <td>0</td>\n",
       "      <td>33</td>\n",
       "    </tr>\n",
       "    <tr>\n",
       "      <th>4</th>\n",
       "      <td>0</td>\n",
       "      <td>0</td>\n",
       "      <td>0</td>\n",
       "      <td>59</td>\n",
       "    </tr>\n",
       "  </tbody>\n",
       "</table>\n",
       "</div>"
      ],
      "text/plain": [
       "   url_feature  num_feature  len_noneng  len_string\n",
       "0            0            0           0          17\n",
       "1            0            0           0          54\n",
       "2            1            8           0          59\n",
       "3            0            0           0          33\n",
       "4            0            0           0          59"
      ]
     },
     "execution_count": 13,
     "metadata": {},
     "output_type": "execute_result"
    }
   ],
   "source": [
    "add_feature.head()"
   ]
  },
  {
   "cell_type": "code",
   "execution_count": 15,
   "metadata": {},
   "outputs": [],
   "source": [
    "vect=TfidfVectorizer(stop_words='english',token_pattern=r'\\b[^\\d\\W]+\\b',\n",
    "                     ngram_range=(1, 4), analyzer='word',  min_df=5).fit_transform(train_X_subsample.ravel())\n"
   ]
  },
  {
   "cell_type": "code",
   "execution_count": 22,
   "metadata": {},
   "outputs": [
    {
     "data": {
      "text/plain": [
       "2"
      ]
     },
     "execution_count": 22,
     "metadata": {},
     "output_type": "execute_result"
    }
   ],
   "source": [
    "vect.ndim"
   ]
  },
  {
   "cell_type": "code",
   "execution_count": 21,
   "metadata": {},
   "outputs": [
    {
     "data": {
      "text/plain": [
       "2"
      ]
     },
     "execution_count": 21,
     "metadata": {},
     "output_type": "execute_result"
    }
   ],
   "source": [
    "add_feature.ndim"
   ]
  },
  {
   "cell_type": "code",
   "execution_count": 24,
   "metadata": {},
   "outputs": [],
   "source": [
    "vect_add_feature=sparse.hstack((vect,add_feature))"
   ]
  },
  {
   "cell_type": "code",
   "execution_count": 25,
   "metadata": {},
   "outputs": [],
   "source": [
    "X_train,X_test,y_train,y_test=train_test_split(vect_add_feature,train_y_subsample)"
   ]
  },
  {
   "cell_type": "code",
   "execution_count": 26,
   "metadata": {},
   "outputs": [
    {
     "name": "stderr",
     "output_type": "stream",
     "text": [
      "C:\\Users\\Yilun\\Anaconda3\\lib\\site-packages\\sklearn\\linear_model\\logistic.py:432: FutureWarning: Default solver will be changed to 'lbfgs' in 0.22. Specify a solver to silence this warning.\n",
      "  FutureWarning)\n",
      "C:\\Users\\Yilun\\Anaconda3\\lib\\site-packages\\sklearn\\utils\\validation.py:724: DataConversionWarning: A column-vector y was passed when a 1d array was expected. Please change the shape of y to (n_samples, ), for example using ravel().\n",
      "  y = column_or_1d(y, warn=True)\n"
     ]
    },
    {
     "name": "stdout",
     "output_type": "stream",
     "text": [
      "              precision    recall  f1-score   support\n",
      "\n",
      "       False       0.82      0.74      0.78     48569\n",
      "        True       0.77      0.84      0.80     48538\n",
      "\n",
      "    accuracy                           0.79     97107\n",
      "   macro avg       0.79      0.79      0.79     97107\n",
      "weighted avg       0.79      0.79      0.79     97107\n",
      "\n",
      "              precision    recall  f1-score   support\n",
      "\n",
      "       False       0.72      0.65      0.69     16169\n",
      "        True       0.68      0.75      0.71     16200\n",
      "\n",
      "    accuracy                           0.70     32369\n",
      "   macro avg       0.70      0.70      0.70     32369\n",
      "weighted avg       0.70      0.70      0.70     32369\n",
      "\n"
     ]
    }
   ],
   "source": [
    "\n",
    "lr_addfeature=LogisticRegression(penalty='l2',C=1).fit(X_train,y_train)\n",
    "print(classification_report(y_train,lr_addfeature.predict(X_train)))\n",
    "print(classification_report(y_test,lr_addfeature.predict(X_test)))"
   ]
  },
  {
   "cell_type": "markdown",
   "metadata": {},
   "source": [
    "- additional feature improved the accuracy for the model"
   ]
  },
  {
   "cell_type": "markdown",
   "metadata": {},
   "source": [
    "- add character n-gram to enhance the model"
   ]
  },
  {
   "cell_type": "code",
   "execution_count": 27,
   "metadata": {},
   "outputs": [],
   "source": [
    "# char n gram vectorizer\n",
    "new_charc_vect = CountVectorizer(stop_words='english',ngram_range=(1,3),min_df=5,analyzer=\"char_wb\")\n",
    "X_char_vect = new_charc_vect.fit_transform(train_X_subsample.ravel())"
   ]
  },
  {
   "cell_type": "code",
   "execution_count": 28,
   "metadata": {},
   "outputs": [],
   "source": [
    "vect_add_feature_2=sparse.hstack((vect,X_char_vect,add_feature))"
   ]
  },
  {
   "cell_type": "code",
   "execution_count": 29,
   "metadata": {},
   "outputs": [
    {
     "name": "stderr",
     "output_type": "stream",
     "text": [
      "C:\\Users\\Yilun\\Anaconda3\\lib\\site-packages\\sklearn\\linear_model\\logistic.py:432: FutureWarning: Default solver will be changed to 'lbfgs' in 0.22. Specify a solver to silence this warning.\n",
      "  FutureWarning)\n",
      "C:\\Users\\Yilun\\Anaconda3\\lib\\site-packages\\sklearn\\utils\\validation.py:724: DataConversionWarning: A column-vector y was passed when a 1d array was expected. Please change the shape of y to (n_samples, ), for example using ravel().\n",
      "  y = column_or_1d(y, warn=True)\n",
      "C:\\Users\\Yilun\\Anaconda3\\lib\\site-packages\\sklearn\\svm\\base.py:929: ConvergenceWarning: Liblinear failed to converge, increase the number of iterations.\n",
      "  \"the number of iterations.\", ConvergenceWarning)\n"
     ]
    },
    {
     "name": "stdout",
     "output_type": "stream",
     "text": [
      "              precision    recall  f1-score   support\n",
      "\n",
      "       False       0.79      0.66      0.72     48458\n",
      "        True       0.71      0.82      0.76     48649\n",
      "\n",
      "    accuracy                           0.74     97107\n",
      "   macro avg       0.75      0.74      0.74     97107\n",
      "weighted avg       0.75      0.74      0.74     97107\n",
      "\n",
      "              precision    recall  f1-score   support\n",
      "\n",
      "       False       0.75      0.62      0.68     16280\n",
      "        True       0.68      0.79      0.73     16089\n",
      "\n",
      "    accuracy                           0.71     32369\n",
      "   macro avg       0.71      0.71      0.71     32369\n",
      "weighted avg       0.71      0.71      0.70     32369\n",
      "\n"
     ]
    }
   ],
   "source": [
    "X_train,X_test,y_train,y_test=train_test_split(vect_add_feature_2,train_y_subsample)\n",
    "lr_addfeature=LogisticRegression(penalty='l2',C=1).fit(X_train,y_train)\n",
    "print(classification_report(y_train,lr_addfeature.predict(X_train)))\n",
    "print(classification_report(y_test,lr_addfeature.predict(X_test)))"
   ]
  },
  {
   "cell_type": "markdown",
   "metadata": {},
   "source": [
    "- the best result so far, accuracy for test is 0.71\n",
    "- This combined n-gram and word countvectorization, adding features, and tuning logistic regression model"
   ]
  },
  {
   "cell_type": "markdown",
   "metadata": {},
   "source": [
    "### Part 4. Reduce the dimention to see how it affect the precision of the prediction\n",
    "- Latent sematic analysis with \n",
    "  - SVD\n",
    "  - LDA"
   ]
  },
  {
   "cell_type": "code",
   "execution_count": 135,
   "metadata": {},
   "outputs": [
    {
     "data": {
      "text/plain": [
       "numpy.ndarray"
      ]
     },
     "execution_count": 135,
     "metadata": {},
     "output_type": "execute_result"
    }
   ],
   "source": [
    "#%% Singular Value Decomposition\n",
    "from sklearn.decomposition import TruncatedSVD\n",
    "lsa = TruncatedSVD(n_components=200)\n",
    "X_lsa = lsa.fit_transform(vect)\n",
    "lsa.components_.shape\n",
    "text_tfidf.shape\n",
    "X_lsa.shape\n",
    "type(X_lsa)"
   ]
  },
  {
   "cell_type": "code",
   "execution_count": null,
   "metadata": {},
   "outputs": [
    {
     "data": {
      "text/plain": [
       "[<matplotlib.lines.Line2D at 0x2a22566a6d8>]"
      ]
     },
     "execution_count": 136,
     "metadata": {},
     "output_type": "execute_result"
    }
   ],
   "source": [
    "#%% run simple SVD\n",
    "plt.semilogy(lsa.explained_variance_ratio_)"
   ]
  },
  {
   "cell_type": "code",
   "execution_count": 27,
   "metadata": {},
   "outputs": [],
   "source": [
    "#%% normalize the tfidf before dimention reduction with SVD\n",
    "from sklearn.preprocessing import MaxAbsScaler\n",
    "scaler = MaxAbsScaler()\n",
    "X_scaled = scaler.fit_transform(text_tfidf)\n",
    "lsa_scaled = TruncatedSVD(n_components=200)\n",
    "X_lsa_scaled = lsa_scaled.fit_transform(X_scaled)"
   ]
  },
  {
   "cell_type": "code",
   "execution_count": 28,
   "metadata": {},
   "outputs": [
    {
     "data": {
      "text/plain": [
       "[<matplotlib.lines.Line2D at 0x1b58c742828>]"
      ]
     },
     "execution_count": 28,
     "metadata": {},
     "output_type": "execute_result"
    },
    {
     "data": {
      "image/png": "[encoded data removed]",
      "text/plain": [
       "<Figure size 432x288 with 1 Axes>"
      ]
     },
     "metadata": {
      "needs_background": "light"
     },
     "output_type": "display_data"
    }
   ],
   "source": [
    "# check how much variance is captured by the nth SVD feature extracted\n",
    "plt.semilogy(lsa_scaled.explained_variance_ratio_)"
   ]
  },
  {
   "cell_type": "code",
   "execution_count": 30,
   "metadata": {},
   "outputs": [],
   "source": [
    "X_lsa_pd=pd.DataFrame(X_lsa_scaled)\n",
    "comb_x=pd.concat([X_lsa_pd ,add_feature],axis=1)"
   ]
  },
  {
   "cell_type": "code",
   "execution_count": 34,
   "metadata": {},
   "outputs": [
    {
     "data": {
      "image/png": "[encoded data removed]",
      "text/plain": [
       "<Figure size 720x360 with 6 Axes>"
      ]
     },
     "metadata": {
      "needs_background": "light"
     },
     "output_type": "display_data"
    }
   ],
   "source": [
    " \n",
    "n_components = 6\n",
    "fig, axes = plt.subplots(n_components // 3, 3, figsize=(10, 5))\n",
    " \n",
    "for ax, coef in zip(axes.ravel(), lsa_scaled.components_):\n",
    "    plot_important_features(coef, feature_names, top_n=n_components, ax=ax)\n",
    "    \n",
    "plt.suptitle(\"First 6 eigenvectors of LSA after scaling\")\n",
    "plt.tight_layout()\n",
    "plt.subplots_adjust(top=.9)\n",
    "plt.savefig(\"lsa_six_eigvec_scaled.png\")"
   ]
  },
  {
   "cell_type": "markdown",
   "metadata": {},
   "source": [
    "- LDA can to some extend group related words together"
   ]
  },
  {
   "cell_type": "code",
   "execution_count": 74,
   "metadata": {},
   "outputs": [
    {
     "data": {
      "text/plain": [
       "CountVectorizer(analyzer='word', binary=False, decode_error='strict',\n",
       "                dtype=<class 'numpy.int64'>, encoding='utf-8', input='content',\n",
       "                lowercase=True, max_df=1.0, max_features=None, min_df=10,\n",
       "                ngram_range=(1, 4), preprocessor=None, stop_words='english',\n",
       "                strip_accents=None, token_pattern='\\\\b[^\\\\d\\\\W]+\\\\b',\n",
       "                tokenizer=None, vocabulary=None)"
      ]
     },
     "execution_count": 74,
     "metadata": {},
     "output_type": "execute_result"
    }
   ],
   "source": [
    "vect=CountVectorizer(stop_words='english',token_pattern=r'\\b[^\\d\\W]+\\b',\n",
    "                     ngram_range=(1, 4), analyzer='word',  min_df=10)\n",
    "vect.fit(body_clean)"
   ]
  },
  {
   "cell_type": "code",
   "execution_count": 78,
   "metadata": {},
   "outputs": [],
   "source": [
    "vect_df=vect.fit_transform(body_clean)"
   ]
  },
  {
   "cell_type": "code",
   "execution_count": 79,
   "metadata": {},
   "outputs": [],
   "source": [
    "# using LDA to see the topic \n",
    "from sklearn.decomposition import LatentDirichletAllocation\n",
    "lda = LatentDirichletAllocation(n_components=10, learning_method=\"batch\")\n",
    "X_lda = lda.fit_transform(vect_df)"
   ]
  },
  {
   "cell_type": "markdown",
   "metadata": {},
   "source": [
    "feature_names = np.array(vect.get_feature_names())\n",
    "n_components = 10\n",
    "fig, axes = plt.subplots(n_components // 3 + 1, 3, figsize=(10, 10))\n",
    "for ax, coef in zip(axes.ravel(), lda.components_):\n",
    "    plot_important_features(coef, feature_names, top_n=20, ax=ax)\n",
    "    \n",
    "plt.tight_layout()"
   ]
  },
  {
   "cell_type": "markdown",
   "metadata": {},
   "source": [
    "- lda should be done in a more cleaner version of text  \n",
    "- this tokenizer does not work really well for this case  "
   ]
  },
  {
   "cell_type": "markdown",
   "metadata": {},
   "source": [
    "### Part 5. Leveraging existing word embedding \n",
    "- package gensim corpra provide an existing library with English words. \n",
    "- use trained Word2Vec model directly (GoogleNews-vectors)"
   ]
  },
  {
   "cell_type": "markdown",
   "metadata": {},
   "source": [
    "#### 5a. Transform text to tuple with Gensim corpra"
   ]
  },
  {
   "cell_type": "code",
   "execution_count": 30,
   "metadata": {},
   "outputs": [],
   "source": [
    "import gensim"
   ]
  },
  {
   "cell_type": "code",
   "execution_count": 42,
   "metadata": {},
   "outputs": [],
   "source": [
    "array_of_text=body_clean.tolist()"
   ]
  },
  {
   "cell_type": "code",
   "execution_count": 43,
   "metadata": {},
   "outputs": [
    {
     "data": {
      "text/plain": [
       "['so.... does this mean that fitter people choose walkable neighborhoods? or do walkable neighborhoods make people fitter?',\n",
       " 'words a cared about way to much these days. gratitude is something that can be conveyed non-verbally. it also means a hell of a lot more if their actions tell you they appreciate it rather than some phrase said usually to avoid coming off rude. look at what people do, not what they say. ',\n",
       " \"hi abhshek799999, your submission has been removed for the following reason(s)\\r\\n\\r\\nit has has been removed temporarily due to a lack of citations. please add a comment with a direct link to the original research, then message the moderators for reapproval\\r\\n\\r\\n\\r\\n\\r\\n*if you feel this was done in error, or would like further clarification, please don't hesitate to [message the mods](http://www.reddit.com/message/compose?to=%2fr%2fscience&amp;message=my%20post:%20https://www.reddit.com/r/science/comments/5qsm2i/80millionyearold_dinosaur_collagen_confirmed/).*\",\n",
       " \"oh that's good. not like we have reached a golden age of being able to share information to people across our planet using  some silicon and plastic. yea not at all. thanks\",\n",
       " 'cut to middle age lady standing on the beach in the morning, smiling with her eyes closed as she put the coffee mug up to her face. handsome husband/boyfriend comes and hugs her from behind, perfect kid and a golden retriever run up and they all start laughing:\\r\\n\\r\\n\"experience life symptom free with xxx. enjoy the pleasures, find yourself again\"',\n",
       " 'it kinda freaks me out that far away in the universe something has happened right now, but on earth that same event wont happen for however long it takes the light to get here. \\r\\n\\r\\ntime is such a weird thing. ',\n",
       " 'to be fair, this is not so much of a problem within (southern) europe. \\r\\n\\r\\nthe economics of olive oil imports into the us makes it very attractive to create fraudulent products. \\r\\n\\r\\nin southern europe, people will buy from a national brand and their choice will be based on flavour. it is also not that hard to get a 5 litre bottle from a local producer. ',\n",
       " \"it's important to note, these conjectures aren't based on hard facts. these theories are just as valid as those which place the beginning of organized cities at 7 millennia ago. \",\n",
       " 'as a middle school science teacher, i work with helping students understand the basics (organelles, functions, etc.).  how can you see this being used in the classroom for my students (7th grade, ages 12-13)?',\n",
       " \"climate change is real.\\r\\n\\r\\nthe fallacy is that we can't do anything about it unless every country joins this charade.\"]"
      ]
     },
     "execution_count": 43,
     "metadata": {},
     "output_type": "execute_result"
    }
   ],
   "source": [
    "array_of_text[:10]"
   ]
  },
  {
   "cell_type": "code",
   "execution_count": 35,
   "metadata": {},
   "outputs": [],
   "source": [
    "texts = [[token for token in doc.lower().split()] for doc in array_of_text]"
   ]
  },
  {
   "cell_type": "code",
   "execution_count": 36,
   "metadata": {},
   "outputs": [
    {
     "name": "stdout",
     "output_type": "stream",
     "text": [
      "Dictionary(273675 unique tokens: ['after', 'always', 'an', 'been', 'distribution']...)\n"
     ]
    }
   ],
   "source": [
    "from gensim import corpora\n",
    "dictionary = corpora.Dictionary(texts)\n",
    "print(dictionary)"
   ]
  },
  {
   "cell_type": "code",
   "execution_count": 57,
   "metadata": {},
   "outputs": [
    {
     "data": {
      "text/plain": [
       "gensim.corpora.dictionary.Dictionary"
      ]
     },
     "execution_count": 57,
     "metadata": {},
     "output_type": "execute_result"
    }
   ],
   "source": [
    "type(dictionary)"
   ]
  },
  {
   "cell_type": "code",
   "execution_count": 59,
   "metadata": {},
   "outputs": [
    {
     "data": {
      "text/plain": [
       "273675"
      ]
     },
     "execution_count": 59,
     "metadata": {},
     "output_type": "execute_result"
    }
   ],
   "source": [
    "len(dictionary.keys())"
   ]
  },
  {
   "cell_type": "code",
   "execution_count": 64,
   "metadata": {},
   "outputs": [
    {
     "data": {
      "text/plain": [
       "['after',\n",
       " 'near',\n",
       " 'lines.',\n",
       " 'alligators',\n",
       " 'painful,',\n",
       " 'papers:',\n",
       " 'cycle',\n",
       " 'dull',\n",
       " 'denies',\n",
       " 'amalgam',\n",
       " 'metastable,',\n",
       " '198',\n",
       " 'evod',\n",
       " 'autism,',\n",
       " 'bs?',\n",
       " 'laughing',\n",
       " 'pupper,',\n",
       " 'prevalence.',\n",
       " '[revealing',\n",
       " 'blokes',\n",
       " 'atmospheres',\n",
       " 'forensics.\"',\n",
       " 'standard...',\n",
       " 'defund',\n",
       " 'stadium',\n",
       " 'rapid,',\n",
       " 'injustices',\n",
       " '\"half-electron\"',\n",
       " 'ancel',\n",
       " 'plateau?',\n",
       " 'amps',\n",
       " 'flagellar',\n",
       " 'sanctioned',\n",
       " 'bitchin',\n",
       " '10.1111/cdev.13008',\n",
       " 'lover...',\n",
       " 'felon?',\n",
       " 'mistakes,',\n",
       " 'mobile,',\n",
       " 'theorist\"?',\n",
       " '[389%])',\n",
       " 'derp.',\n",
       " 'ambiguous.',\n",
       " 'selfconcepts;',\n",
       " 'noooooo!',\n",
       " '(95%)',\n",
       " 'shreds?\"',\n",
       " 'ivy',\n",
       " 'kannada',\n",
       " 'normally?',\n",
       " 'horrifically',\n",
       " 'reimbursement).',\n",
       " 'milliliter',\n",
       " 'teachings,',\n",
       " 'prescription...hes',\n",
       " 'intentionality.',\n",
       " 'movie...)',\n",
       " '[https://doi.org/10.15200/winn.150288.87877](https://www.thewinnower.com/papers/7554-hi-reddit-we-re-jesse-and-hannah-and-our-research-into-zoonotic-infections-and-hunting-practices-in-sierra-leone-shows-women-and-children-interact-with-animals-differently-than-men-ask-us-anything)',\n",
       " 'imidazole,',\n",
       " 'callosum.',\n",
       " 'bourget,',\n",
       " 'lirealy',\n",
       " 'thrived,',\n",
       " 'incoming:',\n",
       " 'id.\"',\n",
       " 'ruiner,',\n",
       " '*someone*,',\n",
       " '1.25,',\n",
       " 'http://pubs.rsc.org/en/content/articlelanding/2017/ta/c6ta09014a#!divabstract',\n",
       " 'trilobots?!',\n",
       " 'tautological:',\n",
       " 'murder-suicides',\n",
       " 'lars-erik',\n",
       " '(processed',\n",
       " 'applicator',\n",
       " '268270.',\n",
       " 'fistful',\n",
       " 'dispute.',\n",
       " '$6k.',\n",
       " 'mcnasty',\n",
       " \"'elective'\",\n",
       " 'pycia;',\n",
       " 'discerned',\n",
       " 'http://psycnet.apa.org/record/2018-09971-001',\n",
       " 'toasts',\n",
       " '\"faith\".',\n",
       " 'bausch',\n",
       " 'peera',\n",
       " '4m-long.',\n",
       " 'thusly,',\n",
       " '***better',\n",
       " 'bacteria!!!\"',\n",
       " 'less-than-smart',\n",
       " 'judeo',\n",
       " 'lago,',\n",
       " 'unsweetened',\n",
       " 'weatherman',\n",
       " 'sawses,',\n",
       " 'perps',\n",
       " '12.5%.',\n",
       " 'racism???',\n",
       " 'missorting',\n",
       " 'photograph,',\n",
       " '\"air',\n",
       " 'partner...\"',\n",
       " 'induced)',\n",
       " 'https://faculty.washington.edu/jdb/345/345%20articles/iyengar%20%26%20lepper%20(2000).pdf',\n",
       " 'teeth).',\n",
       " 'tiffin,',\n",
       " 'opposite\"',\n",
       " 'criticals',\n",
       " '[ultrastructural',\n",
       " \"change'.\",\n",
       " '45%),',\n",
       " '50+).',\n",
       " 'priceless!',\n",
       " 'gender-stratified',\n",
       " 'propoganda.\"',\n",
       " 'nine?',\n",
       " 'jihad!!',\n",
       " 'perpetrated!',\n",
       " 'inconsious',\n",
       " 'abb)',\n",
       " 'outdone,',\n",
       " 'kristine!',\n",
       " 'hookups,',\n",
       " 'mireille',\n",
       " 'over-valuing',\n",
       " 'burrowers',\n",
       " 'inducible,',\n",
       " 'appraising',\n",
       " '10.1542/peds.2018-0120',\n",
       " 'marathoner.',\n",
       " 'changeswe',\n",
       " 'clients......',\n",
       " '10.1038/s41598-018-29032-2',\n",
       " '-walking']"
      ]
     },
     "execution_count": 64,
     "metadata": {},
     "output_type": "execute_result"
    }
   ],
   "source": [
    "v=list(dictionary.values())\n",
    "v[::2000]"
   ]
  },
  {
   "cell_type": "markdown",
   "metadata": {},
   "source": [
    "- this is just the break down of words"
   ]
  },
  {
   "cell_type": "code",
   "execution_count": 47,
   "metadata": {},
   "outputs": [],
   "source": [
    "corpus = [dictionary.doc2bow(text) for text in texts]"
   ]
  },
  {
   "cell_type": "code",
   "execution_count": 51,
   "metadata": {},
   "outputs": [
    {
     "data": {
      "text/plain": [
       "[(0, 1),\n",
       " (1, 1),\n",
       " (2, 1),\n",
       " (3, 1),\n",
       " (4, 1),\n",
       " (5, 2),\n",
       " (6, 1),\n",
       " (7, 1),\n",
       " (8, 1),\n",
       " (9, 1),\n",
       " (10, 1),\n",
       " (11, 1),\n",
       " (12, 1),\n",
       " (13, 2),\n",
       " (14, 1),\n",
       " (15, 1),\n",
       " (16, 1),\n",
       " (17, 1),\n",
       " (18, 1),\n",
       " (19, 1)]"
      ]
     },
     "execution_count": 51,
     "metadata": {},
     "output_type": "execute_result"
    }
   ],
   "source": [
    "corpus[0]"
   ]
  },
  {
   "cell_type": "code",
   "execution_count": 49,
   "metadata": {},
   "outputs": [
    {
     "data": {
      "text/plain": [
       "[(0, 0.14688462512290235),\n",
       " (1, 0.14998526347258725),\n",
       " (2, 0.09391678842044786),\n",
       " (3, 0.11515948470040005),\n",
       " (4, 0.28371984473633144),\n",
       " (5, 0.40583694928822195),\n",
       " (6, 0.38663440760063367),\n",
       " (7, 0.33988437132530674),\n",
       " (8, 0.09244557596258243),\n",
       " (9, 0.10677858872987729),\n",
       " (10, 0.15089929910808209),\n",
       " (11, 0.502444777979453),\n",
       " (12, 0.04340452823385446),\n",
       " (13, 0.1197729597136711),\n",
       " (14, 0.18648833899648823),\n",
       " (15, 0.2436207830193083),\n",
       " (16, 0.049654321066083515),\n",
       " (17, 0.02526080037341656),\n",
       " (18, 0.030204084801725855),\n",
       " (19, 0.11872436195555766)]"
      ]
     },
     "execution_count": 49,
     "metadata": {},
     "output_type": "execute_result"
    }
   ],
   "source": [
    "tfidf = gensim.models.TfidfModel(corpus)\n",
    "tfidf[corpus[0]]"
   ]
  },
  {
   "cell_type": "code",
   "execution_count": 52,
   "metadata": {},
   "outputs": [
    {
     "data": {
      "text/plain": [
       "[(2, 0.0715665096194198),\n",
       " (17, 0.038498490915704134),\n",
       " (20, 0.25474860242027897),\n",
       " (21, 0.026676922750936305),\n",
       " (22, 0.07166023692940168),\n",
       " (23, 0.07481525738167548),\n",
       " (24, 0.030113077871298813),\n",
       " (25, 0.12361080313426429),\n",
       " (26, 0.18669849582595063),\n",
       " (27, 0.2715813995553886),\n",
       " (28, 0.18243989519245685),\n",
       " (29, 0.17038565477119524),\n",
       " (30, 0.3608107092456738),\n",
       " (31, 0.09474064174167221),\n",
       " (32, 0.1668200681119216),\n",
       " (33, 0.11530681947235752),\n",
       " (34, 0.12571355484285401),\n",
       " (35, 0.037827627639411276),\n",
       " (36, 0.08701431355322935),\n",
       " (37, 0.03606232703314217),\n",
       " (38, 0.13714955192294015),\n",
       " (39, 0.18710311243109118),\n",
       " (40, 0.2662641664386758),\n",
       " (41, 0.13565629108182403),\n",
       " (42, 0.38287317572568125),\n",
       " (43, 0.029406056541109497),\n",
       " (44, 0.0997610603892508),\n",
       " (45, 0.08816353608557163),\n",
       " (46, 0.27916988200289766),\n",
       " (47, 0.16795238687210662),\n",
       " (48, 0.11127069388196646),\n",
       " (49, 0.1015426623536897),\n",
       " (50, 0.12354057546465937),\n",
       " (51, 0.1411805478042093),\n",
       " (52, 0.12188905996010496),\n",
       " (53, 0.19069130076835591)]"
      ]
     },
     "execution_count": 52,
     "metadata": {},
     "output_type": "execute_result"
    }
   ],
   "source": [
    "tfidf[corpus[1]]"
   ]
  },
  {
   "cell_type": "code",
   "execution_count": 53,
   "metadata": {},
   "outputs": [
    {
     "data": {
      "text/plain": [
       "167529"
      ]
     },
     "execution_count": 53,
     "metadata": {},
     "output_type": "execute_result"
    }
   ],
   "source": [
    "len(corpus)"
   ]
  },
  {
   "cell_type": "markdown",
   "metadata": {},
   "source": [
    "- it is hard to put the corpus back into a data frame -- too big not applicable\n"
   ]
  },
  {
   "cell_type": "markdown",
   "metadata": {},
   "source": [
    "http://www.davidsbatista.net/blog/2018/02/28/TfidfVectorizer/"
   ]
  },
  {
   "cell_type": "code",
   "execution_count": 39,
   "metadata": {},
   "outputs": [],
   "source": [
    "from nltk.stem import WordNetLemmatizer\n",
    "from nltk import word_tokenize  \n",
    "lemmatizer = WordNetLemmatizer()"
   ]
  },
  {
   "cell_type": "markdown",
   "metadata": {},
   "source": [
    "#### 5b. Create new tokenizer for vectorization"
   ]
  },
  {
   "cell_type": "code",
   "execution_count": 5,
   "metadata": {},
   "outputs": [
    {
     "name": "stdout",
     "output_type": "stream",
     "text": [
      "cat\n",
      "cactus\n",
      "goose\n",
      "rock\n",
      "python\n",
      "good\n",
      "best\n",
      "run\n",
      "run\n"
     ]
    }
   ],
   "source": [
    "print(lemmatizer.lemmatize(\"cats\"))\n",
    "print(lemmatizer.lemmatize(\"cacti\"))\n",
    "print(lemmatizer.lemmatize(\"geese\"))\n",
    "print(lemmatizer.lemmatize(\"rocks\"))\n",
    "print(lemmatizer.lemmatize(\"python\"))\n",
    "print(lemmatizer.lemmatize(\"better\", pos=\"a\"))\n",
    "print(lemmatizer.lemmatize(\"best\", pos=\"a\"))\n",
    "print(lemmatizer.lemmatize(\"run\"))\n",
    "print(lemmatizer.lemmatize(\"run\",'v'))"
   ]
  },
  {
   "cell_type": "markdown",
   "metadata": {},
   "source": [
    "create this new lemmatizer for vectorization"
   ]
  },
  {
   "cell_type": "code",
   "execution_count": 40,
   "metadata": {},
   "outputs": [],
   "source": [
    "# Create a tokenizer to be used in TFIDF Vectorizer\n",
    "class LemmaTokenizer(object):\n",
    "    def __init__(self):\n",
    "        self.wnl = WordNetLemmatizer()\n",
    "    def __call__(self, doc):\n",
    "        return [self.wnl.lemmatize(t) for t in word_tokenize(doc)]"
   ]
  },
  {
   "cell_type": "code",
   "execution_count": 41,
   "metadata": {},
   "outputs": [
    {
     "name": "stderr",
     "output_type": "stream",
     "text": [
      "C:\\Users\\Yilun\\Anaconda3\\lib\\site-packages\\sklearn\\feature_extraction\\text.py:300: UserWarning: Your stop_words may be inconsistent with your preprocessing. Tokenizing the stop words generated tokens ['ha', 'le', 'u', 'wa'] not in stop_words.\n",
      "  'stop_words.' % sorted(inconsistent))\n"
     ]
    }
   ],
   "source": [
    "text_tfidf=TfidfVectorizer(stop_words='english',tokenizer = LemmaTokenizer(),\\\n",
    "                           ngram_range=(1, 4), analyzer='word',  min_df=5).\\\n",
    "    fit_transform(train_X_subsample.ravel())"
   ]
  },
  {
   "cell_type": "code",
   "execution_count": 8,
   "metadata": {},
   "outputs": [
    {
     "name": "stderr",
     "output_type": "stream",
     "text": [
      "C:\\Users\\Yilun\\Anaconda3\\lib\\site-packages\\sklearn\\linear_model\\logistic.py:432: FutureWarning: Default solver will be changed to 'lbfgs' in 0.22. Specify a solver to silence this warning.\n",
      "  FutureWarning)\n"
     ]
    },
    {
     "name": "stdout",
     "output_type": "stream",
     "text": [
      "              precision    recall  f1-score   support\n",
      "\n",
      "       False       0.92      0.93      0.92     77114\n",
      "        True       0.88      0.87      0.87     48532\n",
      "\n",
      "    accuracy                           0.90    125646\n",
      "   macro avg       0.90      0.90      0.90    125646\n",
      "weighted avg       0.90      0.90      0.90    125646\n",
      "\n",
      "              precision    recall  f1-score   support\n",
      "\n",
      "       False       0.73      0.73      0.73     25677\n",
      "        True       0.57      0.57      0.57     16206\n",
      "\n",
      "    accuracy                           0.67     41883\n",
      "   macro avg       0.65      0.65      0.65     41883\n",
      "weighted avg       0.67      0.67      0.67     41883\n",
      "\n"
     ]
    }
   ],
   "source": [
    "X_train,X_test,y_train,y_test=train_test_split(text_tfidf,data['REMOVED'])\n",
    " \n",
    "lr4=LogisticRegression(C=1, penalty='l2').fit(X_train,y_train)\n",
    "\n",
    "print(classification_report(y_train,lr4.predict(X_train)))\n",
    "print(classification_report(y_test,lr4.predict(X_test)))"
   ]
  },
  {
   "cell_type": "markdown",
   "metadata": {},
   "source": [
    "- lementization did improve the precision for the training but not for the testing in this case"
   ]
  },
  {
   "cell_type": "markdown",
   "metadata": {},
   "source": [
    "use LDA to get the theme of the text"
   ]
  },
  {
   "cell_type": "code",
   "execution_count": null,
   "metadata": {},
   "outputs": [],
   "source": [
    "from sklearn.linear_model import SGDClassifier\n",
    "SGDClassifier()"
   ]
  },
  {
   "cell_type": "code",
   "execution_count": null,
   "metadata": {},
   "outputs": [],
   "source": [
    "batches = [(X_train[batch], y_train[batch]) for batch in gen_batches(X_train.shape[0], 5)]\n",
    "\n",
    "sgd = SGDClassifier()\n",
    "for X_batch, y_batch in batches:\n",
    "    sgd.partial_fit(X_batch, y_batch, classes=[0, 1, 2])\n",
    "sgd.score(X_test, y_test)"
   ]
  },
  {
   "cell_type": "markdown",
   "metadata": {},
   "source": [
    "#### 5c. Use trained Word2vec directly"
   ]
  },
  {
   "cell_type": "code",
   "execution_count": null,
   "metadata": {},
   "outputs": [],
   "source": [
    "from gensim import models\n",
    "\n",
    "w = models.KeyedVectors.load_word2vec_format(\n",
    "    '../GoogleNews-vectors-negative300.bin', binary=True)\n",
    "\n",
    "word2vecmodel = w"
   ]
  },
  {
   "cell_type": "code",
   "execution_count": 45,
   "metadata": {},
   "outputs": [],
   "source": [
    "from gensim import models\n",
    "\n",
    "w = models.KeyedVectors.load_word2vec_format(\n",
    "    'GoogleNews-vectors-negative300.bin', binary=True)\n",
    "\n",
    "word2vecmodel = w"
   ]
  },
  {
   "cell_type": "code",
   "execution_count": 47,
   "metadata": {},
   "outputs": [
    {
     "data": {
      "text/plain": [
       "3000000"
      ]
     },
     "execution_count": 47,
     "metadata": {},
     "output_type": "execute_result"
    }
   ],
   "source": [
    "len(word2vecmodel.index2word)"
   ]
  },
  {
   "cell_type": "code",
   "execution_count": 48,
   "metadata": {},
   "outputs": [
    {
     "data": {
      "text/plain": [
       "['</s>',\n",
       " 'distinctiveness',\n",
       " 'barbiturate',\n",
       " 'Sony_PS3',\n",
       " 'Infiniti_FX',\n",
       " 'Attorney_Bud_Cummins',\n",
       " 'Giske',\n",
       " 'f_***_er',\n",
       " 'Shaw_Stockbroking_Ltd.',\n",
       " 'HKSTP',\n",
       " 'Starwood_Hotels_HOT',\n",
       " 'McGrath_RentCorp_NASDAQ_MGRC',\n",
       " 'Piveteau',\n",
       " 'Rob_Pavey',\n",
       " 'Giant_Octopus',\n",
       " 'eur_UPM_Kymmene',\n",
       " 'CSSL',\n",
       " 'Lubina',\n",
       " 'Ndian',\n",
       " 'Cape_Solander',\n",
       " 'Iordanis',\n",
       " 'Allegiance_recitation',\n",
       " 'brandy_soaked',\n",
       " 'Coach_Kurt_Budke',\n",
       " 'backcountry_hikers',\n",
       " 'Brawn_BMW_Sauber',\n",
       " 'cedar_juniper',\n",
       " 'Wendy_Liberatore',\n",
       " 'Management_GDCM',\n",
       " 'BOARDED_UP']"
      ]
     },
     "execution_count": 48,
     "metadata": {},
     "output_type": "execute_result"
    }
   ],
   "source": [
    "word2vecmodel.index2word[::100000]"
   ]
  },
  {
   "cell_type": "code",
   "execution_count": 68,
   "metadata": {},
   "outputs": [],
   "source": [
    "vec_w2v=CountVectorizer(vocabulary=word2vecmodel.index2word).fit_transform(train_X_subsample.ravel())"
   ]
  },
  {
   "cell_type": "code",
   "execution_count": 69,
   "metadata": {},
   "outputs": [
    {
     "data": {
      "text/plain": [
       "(129476, 3000000)"
      ]
     },
     "execution_count": 69,
     "metadata": {},
     "output_type": "execute_result"
    }
   ],
   "source": [
    "vec_w2v.shape"
   ]
  },
  {
   "cell_type": "code",
   "execution_count": 49,
   "metadata": {},
   "outputs": [],
   "source": [
    "wordlist=set(word2vecmodel.index2word)"
   ]
  },
  {
   "cell_type": "code",
   "execution_count": 50,
   "metadata": {},
   "outputs": [],
   "source": [
    "subset=train_X_subsample.ravel()[::10]"
   ]
  },
  {
   "cell_type": "code",
   "execution_count": 51,
   "metadata": {},
   "outputs": [],
   "source": [
    "subset_y=train_X_subsample[::10]"
   ]
  },
  {
   "cell_type": "code",
   "execution_count": 71,
   "metadata": {},
   "outputs": [
    {
     "name": "stderr",
     "output_type": "stream",
     "text": [
      "C:\\Users\\Yilun\\Anaconda3\\lib\\site-packages\\sklearn\\linear_model\\logistic.py:432: FutureWarning: Default solver will be changed to 'lbfgs' in 0.22. Specify a solver to silence this warning.\n",
      "  FutureWarning)\n",
      "C:\\Users\\Yilun\\Anaconda3\\lib\\site-packages\\sklearn\\utils\\validation.py:724: DataConversionWarning: A column-vector y was passed when a 1d array was expected. Please change the shape of y to (n_samples, ), for example using ravel().\n",
      "  y = column_or_1d(y, warn=True)\n",
      "C:\\Users\\Yilun\\Anaconda3\\lib\\site-packages\\sklearn\\svm\\base.py:929: ConvergenceWarning: Liblinear failed to converge, increase the number of iterations.\n",
      "  \"the number of iterations.\", ConvergenceWarning)\n"
     ]
    },
    {
     "name": "stdout",
     "output_type": "stream",
     "text": [
      "              precision    recall  f1-score   support\n",
      "\n",
      "       False       0.82      0.68      0.74     48509\n",
      "        True       0.73      0.85      0.78     48598\n",
      "\n",
      "    accuracy                           0.76     97107\n",
      "   macro avg       0.77      0.76      0.76     97107\n",
      "weighted avg       0.77      0.76      0.76     97107\n",
      "\n",
      "              precision    recall  f1-score   support\n",
      "\n",
      "       False       0.73      0.60      0.65     16229\n",
      "        True       0.66      0.77      0.71     16140\n",
      "\n",
      "    accuracy                           0.68     32369\n",
      "   macro avg       0.69      0.68      0.68     32369\n",
      "weighted avg       0.69      0.68      0.68     32369\n",
      "\n"
     ]
    }
   ],
   "source": [
    "#print('total number of tokens {}'.format(len(vec_w2v.get_feature_names())))\n",
    "#total number of tokens 39786\n",
    "#%% need to transform prior to the regression\n",
    " \n",
    "#%%\n",
    "\n",
    "X_train,X_test,y_train,y_test=train_test_split(vec_w2v,train_y_subsample)\n",
    "#%% A basic model for this\n",
    "\n",
    " \n",
    "lr_w2v=LogisticRegression().fit(X_train,y_train)\n",
    "print(classification_report(y_train,lr_w2v.predict(X_train)))\n",
    "print(classification_report(y_test,lr_w2v.predict(X_test)))"
   ]
  },
  {
   "cell_type": "markdown",
   "metadata": {},
   "source": [
    "- the result is slightly worse than the combined model, and not as good as the simple vectorizing baseline model. <br>\n",
    "- this model could be used as a baseline model for reference"
   ]
  },
  {
   "cell_type": "markdown",
   "metadata": {},
   "source": [
    "### Conclusion:<br>\n",
    "- The analysis focused on modeling text and predicting the item got removed from the stream or not \n",
    "- do more cleaning on the text help providing better insights of what the characteristics of the comments that got removed.  \n",
    "- However, not necessary to yield better result. \n",
    "- Dimension reduction (SVD) will also provide a good result given the less space and computing power it take "
   ]
  },
  {
   "cell_type": "code",
   "execution_count": null,
   "metadata": {},
   "outputs": [],
   "source": []
  }
 ],
 "metadata": {
  "kernelspec": {
   "display_name": "Python 3",
   "language": "python",
   "name": "python3"
  },
  "language_info": {
   "codemirror_mode": {
    "name": "ipython",
    "version": 3
   },
   "file_extension": ".py",
   "mimetype": "text/x-python",
   "name": "python",
   "nbconvert_exporter": "python",
   "pygments_lexer": "ipython3",
   "version": "3.7.3"
  }
 },
 "nbformat": 4,
 "nbformat_minor": 2
}
